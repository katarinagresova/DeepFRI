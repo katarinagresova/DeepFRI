{
  "nbformat": 4,
  "nbformat_minor": 0,
  "metadata": {
    "colab": {
      "provenance": [],
      "gpuType": "T4",
      "authorship_tag": "ABX9TyNaUT3P2LJdXeEtIq4gUa7m",
      "include_colab_link": true
    },
    "kernelspec": {
      "name": "python3",
      "display_name": "Python 3"
    },
    "language_info": {
      "name": "python"
    },
    "accelerator": "GPU"
  },
  "cells": [
    {
      "cell_type": "markdown",
      "metadata": {
        "id": "view-in-github",
        "colab_type": "text"
      },
      "source": [
        "<a href=\"https://colab.research.google.com/github/katarinagresova/DeepFRI/blob/master/Exploration.ipynb\" target=\"_parent\"><img src=\"https://colab.research.google.com/assets/colab-badge.svg\" alt=\"Open In Colab\"/></a>"
      ]
    },
    {
      "cell_type": "code",
      "execution_count": 1,
      "metadata": {
        "colab": {
          "base_uri": "https://localhost:8080/"
        },
        "id": "KCoQsK9SuWIC",
        "outputId": "71ede456-3539-4934-cb68-481916d7bfc7"
      },
      "outputs": [
        {
          "output_type": "stream",
          "name": "stdout",
          "text": [
            "Cloning into 'DeepFRI'...\n",
            "remote: Enumerating objects: 672, done.\u001b[K\n",
            "remote: Counting objects: 100% (77/77), done.\u001b[K\n",
            "remote: Compressing objects: 100% (29/29), done.\u001b[K\n",
            "remote: Total 672 (delta 59), reused 55 (delta 48), pack-reused 595\u001b[K\n",
            "Receiving objects: 100% (672/672), 396.85 MiB | 25.86 MiB/s, done.\n",
            "Resolving deltas: 100% (377/377), done.\n",
            "Updating files: 100% (66/66), done.\n",
            "/content/DeepFRI\n"
          ]
        }
      ],
      "source": [
        "!git clone https://github.com/flatironinstitute/DeepFRI.git\n",
        "%cd DeepFRI"
      ]
    },
    {
      "cell_type": "code",
      "source": [
        "!pip install biopython"
      ],
      "metadata": {
        "colab": {
          "base_uri": "https://localhost:8080/"
        },
        "id": "gA7EIEp_wusW",
        "outputId": "2ac801cd-f10c-4874-fd83-f842d4053266"
      },
      "execution_count": 2,
      "outputs": [
        {
          "output_type": "stream",
          "name": "stdout",
          "text": [
            "Collecting biopython\n",
            "  Downloading biopython-1.81-cp310-cp310-manylinux_2_17_x86_64.manylinux2014_x86_64.whl (3.1 MB)\n",
            "\u001b[2K     \u001b[90m━━━━━━━━━━━━━━━━━━━━━━━━━━━━━━━━━━━━━━━━\u001b[0m \u001b[32m3.1/3.1 MB\u001b[0m \u001b[31m10.5 MB/s\u001b[0m eta \u001b[36m0:00:00\u001b[0m\n",
            "\u001b[?25hRequirement already satisfied: numpy in /usr/local/lib/python3.10/dist-packages (from biopython) (1.23.5)\n",
            "Installing collected packages: biopython\n",
            "Successfully installed biopython-1.81\n"
          ]
        }
      ]
    },
    {
      "cell_type": "code",
      "source": [
        "!wget https://users.flatironinstitute.org/~renfrew/DeepFRI_data/trained_models.tar.gz"
      ],
      "metadata": {
        "colab": {
          "base_uri": "https://localhost:8080/"
        },
        "id": "n3Vq3ZOixF6P",
        "outputId": "23b60573-b02f-4ffe-ec21-3780695d8ab5"
      },
      "execution_count": 3,
      "outputs": [
        {
          "output_type": "stream",
          "name": "stdout",
          "text": [
            "--2023-08-23 05:51:41--  https://users.flatironinstitute.org/~renfrew/DeepFRI_data/trained_models.tar.gz\n",
            "Resolving users.flatironinstitute.org (users.flatironinstitute.org)... 144.121.86.9\n",
            "Connecting to users.flatironinstitute.org (users.flatironinstitute.org)|144.121.86.9|:443... connected.\n",
            "HTTP request sent, awaiting response... 200 OK\n",
            "Length: 903786708 (862M) [application/octet-stream]\n",
            "Saving to: ‘trained_models.tar.gz’\n",
            "\n",
            "trained_models.tar. 100%[===================>] 861.92M  81.1MB/s    in 9.5s    \n",
            "\n",
            "2023-08-23 05:51:51 (91.0 MB/s) - ‘trained_models.tar.gz’ saved [903786708/903786708]\n",
            "\n"
          ]
        }
      ]
    },
    {
      "cell_type": "code",
      "source": [
        "!tar xvzf trained_models.tar.gz -C ."
      ],
      "metadata": {
        "colab": {
          "base_uri": "https://localhost:8080/"
        },
        "id": "WmUSyr_fxISp",
        "outputId": "01ed6f94-d409-42c1-9ab2-9a0e10e0a011"
      },
      "execution_count": 4,
      "outputs": [
        {
          "output_type": "stream",
          "name": "stdout",
          "text": [
            "trained_models/\n",
            "trained_models/DeepFRI-MERGED_MultiGraphConv_3x512_fcd_1024_ca_10A_enzyme_commission_model_params.json\n",
            "trained_models/DeepCNN-MERGED_molecular_function.hdf5\n",
            "trained_models/DeepCNN-MERGED_cellular_component.hdf5\n",
            "trained_models/lstm_lm.hdf5\n",
            "trained_models/model_config.json\n",
            "trained_models/DeepCNN-MERGED_enzyme_commission_model_params.json\n",
            "trained_models/DeepFRI-MERGED_MultiGraphConv_3x512_fcd_1024_ca_10A_cellular_component.hdf5\n",
            "trained_models/DeepFRI-MERGED_MultiGraphConv_3x512_fcd_1024_ca_10A_molecular_function_model_params.json\n",
            "trained_models/DeepCNN-MERGED_cellular_component_model_params.json\n",
            "trained_models/DeepFRI-MERGED_MultiGraphConv_3x512_fcd_1024_ca_10A_enzyme_commission.hdf5\n",
            "trained_models/DeepCNN-MERGED_biological_process_model_params.json\n",
            "trained_models/DeepCNN-MERGED_enzyme_commission.hdf5\n",
            "trained_models/DeepFRI-MERGED_MultiGraphConv_3x512_fcd_2048_ca_10A_biological_process.hdf5\n",
            "trained_models/DeepFRI-MERGED_MultiGraphConv_3x512_fcd_1024_ca_10A_molecular_function.hdf5\n",
            "trained_models/DeepFRI-MERGED_MultiGraphConv_3x512_fcd_1024_ca_10A_cellular_component_model_params.json\n",
            "trained_models/DeepFRI-MERGED_MultiGraphConv_3x512_fcd_2048_ca_10A_biological_process_model_params.json\n",
            "trained_models/DeepCNN-MERGED_biological_process.hdf5\n",
            "trained_models/DeepCNN-MERGED_molecular_function_model_params.json\n"
          ]
        }
      ]
    },
    {
      "cell_type": "code",
      "source": [
        "from deepfrier.utils import load_predicted_PDB, seq2onehot\n",
        "import numpy as np"
      ],
      "metadata": {
        "id": "fCallX9nw1l5"
      },
      "execution_count": 5,
      "outputs": []
    },
    {
      "cell_type": "code",
      "source": [
        "filename = \"./examples/pdb_files/1S3P-A.pdb\"\n",
        "cmap_thresh=10.0\n",
        "\n",
        "D, seq = load_predicted_PDB(filename)\n",
        "A = np.double(D < cmap_thresh)\n",
        "\n",
        "S = seq2onehot(seq)\n",
        "S = S.reshape(1, *S.shape)\n",
        "A = A.reshape(1, *A.shape)"
      ],
      "metadata": {
        "colab": {
          "base_uri": "https://localhost:8080/"
        },
        "id": "taVgoXw2wz4a",
        "outputId": "bad05c65-a8fc-4568-c7ac-148027bafb9a"
      },
      "execution_count": 6,
      "outputs": [
        {
          "output_type": "stream",
          "name": "stderr",
          "text": [
            "/usr/local/lib/python3.10/dist-packages/Bio/PDB/PDBParser.py:395: PDBConstructionWarning: Ignoring unrecognized record 'END' at line 831\n",
            "  warnings.warn(\n",
            "/usr/local/lib/python3.10/dist-packages/Bio/PDB/PDBParser.py:395: PDBConstructionWarning: Ignoring unrecognized record 'END' at line 831\n",
            "  warnings.warn(\n",
            "/usr/local/lib/python3.10/dist-packages/Bio/SeqIO/PdbIO.py:322: BiopythonParserWarning: 'HEADER' line not found; can't determine PDB ID.\n",
            "  warnings.warn(\n"
          ]
        }
      ]
    },
    {
      "cell_type": "code",
      "source": [
        "import matplotlib.pyplot as plt\n",
        "\n",
        "plt.imshow(D)\n",
        "plt.gray()\n",
        "plt.show()"
      ],
      "metadata": {
        "colab": {
          "base_uri": "https://localhost:8080/",
          "height": 434
        },
        "id": "p6g5PEOO8mv5",
        "outputId": "c778e6fc-1dfd-420b-fb23-500494f6651f"
      },
      "execution_count": 8,
      "outputs": [
        {
          "output_type": "display_data",
          "data": {
            "text/plain": [
              "<Figure size 640x480 with 1 Axes>"
            ],
            "image/png": "[encoded data removed]"
          },
          "metadata": {}
        }
      ]
    },
    {
      "cell_type": "code",
      "source": [
        "import tensorflow as tf\n",
        "from deepfrier.layers import MultiGraphConv, GraphConv, FuncPredictor, SumPooling\n",
        "\n",
        "model = tf.keras.models.load_model(\"./trained_models/DeepFRI-MERGED_MultiGraphConv_3x512_fcd_1024_ca_10A_molecular_function.hdf5\",\n",
        "                                                custom_objects={'MultiGraphConv': MultiGraphConv,\n",
        "                                                                'GraphConv': GraphConv,\n",
        "                                                                'FuncPredictor': FuncPredictor,\n",
        "                                                                'SumPooling': SumPooling})"
      ],
      "metadata": {
        "id": "o9ZQiZw7w8Fz"
      },
      "execution_count": 9,
      "outputs": []
    },
    {
      "cell_type": "code",
      "source": [
        "model.summary()"
      ],
      "metadata": {
        "colab": {
          "base_uri": "https://localhost:8080/"
        },
        "id": "riFvRlOm9VEd",
        "outputId": "9583863a-5f54-44ff-8700-4b9cde7d7acc"
      },
      "execution_count": 15,
      "outputs": [
        {
          "output_type": "stream",
          "name": "stdout",
          "text": [
            "Model: \"model_1\"\n",
            "__________________________________________________________________________________________________\n",
            " Layer (type)                   Output Shape         Param #     Connected to                     \n",
            "==================================================================================================\n",
            " seq (InputLayer)               [(None, None, 26)]   0           []                               \n",
            "                                                                                                  \n",
            " model (Functional)             (None, None, 1024)   3207168     ['seq[0][0]']                    \n",
            "                                                                                                  \n",
            " LM_embedding (Dense)           (None, None, 1024)   1049600     ['model[0][0]']                  \n",
            "                                                                                                  \n",
            " AA_embedding (Dense)           (None, None, 1024)   26624       ['seq[0][0]']                    \n",
            "                                                                                                  \n",
            " Emedding (Add)                 (None, None, 1024)   0           ['LM_embedding[0][0]',           \n",
            "                                                                  'AA_embedding[0][0]']           \n",
            "                                                                                                  \n",
            " activation (Activation)        (None, None, 1024)   0           ['Emedding[0][0]']               \n",
            "                                                                                                  \n",
            " cmap (InputLayer)              [(None, None, None)  0           []                               \n",
            "                                ]                                                                 \n",
            "                                                                                                  \n",
            " multi_graph_conv (MultiGraphCo  (None, None, 512)   1572864     ['activation[0][0]',             \n",
            " nv)                                                              'cmap[0][0]']                   \n",
            "                                                                                                  \n",
            " multi_graph_conv_1 (MultiGraph  (None, None, 512)   786432      ['multi_graph_conv[0][0]',       \n",
            " Conv)                                                            'cmap[0][0]']                   \n",
            "                                                                                                  \n",
            " multi_graph_conv_2 (MultiGraph  (None, None, 512)   786432      ['multi_graph_conv_1[0][0]',     \n",
            " Conv)                                                            'cmap[0][0]']                   \n",
            "                                                                                                  \n",
            " GCNN_concatenate (Concatenate)  (None, None, 1536)  0           ['multi_graph_conv[0][0]',       \n",
            "                                                                  'multi_graph_conv_1[0][0]',     \n",
            "                                                                  'multi_graph_conv_2[0][0]']     \n",
            "                                                                                                  \n",
            " SumPooling (SumPooling)        (None, 1536)         0           ['GCNN_concatenate[0][0]']       \n",
            "                                                                                                  \n",
            " dense (Dense)                  (None, 1024)         1573888     ['SumPooling[0][0]']             \n",
            "                                                                                                  \n",
            " dropout (Dropout)              (None, 1024)         0           ['dense[0][0]']                  \n",
            "                                                                                                  \n",
            " labels (FuncPredictor)         (None, 489, 2)       1002450     ['dropout[0][0]']                \n",
            "                                                                                                  \n",
            "==================================================================================================\n",
            "Total params: 10,005,458\n",
            "Trainable params: 6,798,290\n",
            "Non-trainable params: 3,207,168\n",
            "__________________________________________________________________________________________________\n"
          ]
        }
      ]
    },
    {
      "cell_type": "code",
      "source": [
        "model.layers[-2]"
      ],
      "metadata": {
        "colab": {
          "base_uri": "https://localhost:8080/"
        },
        "id": "YSjDGfjH9YVC",
        "outputId": "9a819414-f41d-4a20-f45a-d6e0c46c4fda"
      },
      "execution_count": 16,
      "outputs": [
        {
          "output_type": "execute_result",
          "data": {
            "text/plain": [
              "<keras.layers.regularization.dropout.Dropout at 0x7a0dd977f940>"
            ]
          },
          "metadata": {},
          "execution_count": 16
        }
      ]
    },
    {
      "cell_type": "code",
      "source": [
        "from keras.models import Model\n",
        "\n",
        "encoder = Model(model.input, model.layers[-2].output)"
      ],
      "metadata": {
        "id": "VsPFoWS49FIO"
      },
      "execution_count": 10,
      "outputs": []
    },
    {
      "cell_type": "code",
      "source": [
        "y = encoder.predict([A, S])"
      ],
      "metadata": {
        "colab": {
          "base_uri": "https://localhost:8080/"
        },
        "id": "VknDKxYk9M-f",
        "outputId": "ab8530f5-f2ae-4709-d51d-db815f1b5dcd"
      },
      "execution_count": 11,
      "outputs": [
        {
          "output_type": "stream",
          "name": "stdout",
          "text": [
            "1/1 [==============================] - 6s 6s/step\n"
          ]
        }
      ]
    },
    {
      "cell_type": "code",
      "source": [
        "y"
      ],
      "metadata": {
        "colab": {
          "base_uri": "https://localhost:8080/"
        },
        "id": "Iqzwv7GSxoZr",
        "outputId": "f4f7344f-c29c-417f-dee5-250f517227d4"
      },
      "execution_count": 12,
      "outputs": [
        {
          "output_type": "execute_result",
          "data": {
            "text/plain": [
              "array([[0., 0., 0., ..., 0., 0., 0.]], dtype=float32)"
            ]
          },
          "metadata": {},
          "execution_count": 12
        }
      ]
    },
    {
      "cell_type": "code",
      "source": [
        "import pandas as pd\n",
        "\n",
        "pd.DataFrame(y[0]).describe()"
      ],
      "metadata": {
        "colab": {
          "base_uri": "https://localhost:8080/",
          "height": 300
        },
        "id": "SDQSzbdHxqOT",
        "outputId": "d6ddb875-02ec-47ac-822e-d0bdb4ba5a6a"
      },
      "execution_count": 13,
      "outputs": [
        {
          "output_type": "execute_result",
          "data": {
            "text/plain": [
              "                 0\n",
              "count  1024.000000\n",
              "mean      0.027637\n",
              "std       0.201912\n",
              "min       0.000000\n",
              "25%       0.000000\n",
              "50%       0.000000\n",
              "75%       0.000000\n",
              "max       3.394846"
            ],
            "text/html": [
              "\n",
              "  <div id=\"df-d5f26d9d-b005-4227-a07b-28ee9d064fb4\" class=\"colab-df-container\">\n",
              "    <div>\n",
              "<style scoped>\n",
              "    .dataframe tbody tr th:only-of-type {\n",
              "        vertical-align: middle;\n",
              "    }\n",
              "\n",
              "    .dataframe tbody tr th {\n",
              "        vertical-align: top;\n",
              "    }\n",
              "\n",
              "    .dataframe thead th {\n",
              "        text-align: right;\n",
              "    }\n",
              "</style>\n",
              "<table border=\"1\" class=\"dataframe\">\n",
              "  <thead>\n",
              "    <tr style=\"text-align: right;\">\n",
              "      <th></th>\n",
              "      <th>0</th>\n",
              "    </tr>\n",
              "  </thead>\n",
              "  <tbody>\n",
              "    <tr>\n",
              "      <th>count</th>\n",
              "      <td>1024.000000</td>\n",
              "    </tr>\n",
              "    <tr>\n",
              "      <th>mean</th>\n",
              "      <td>0.027637</td>\n",
              "    </tr>\n",
              "    <tr>\n",
              "      <th>std</th>\n",
              "      <td>0.201912</td>\n",
              "    </tr>\n",
              "    <tr>\n",
              "      <th>min</th>\n",
              "      <td>0.000000</td>\n",
              "    </tr>\n",
              "    <tr>\n",
              "      <th>25%</th>\n",
              "      <td>0.000000</td>\n",
              "    </tr>\n",
              "    <tr>\n",
              "      <th>50%</th>\n",
              "      <td>0.000000</td>\n",
              "    </tr>\n",
              "    <tr>\n",
              "      <th>75%</th>\n",
              "      <td>0.000000</td>\n",
              "    </tr>\n",
              "    <tr>\n",
              "      <th>max</th>\n",
              "      <td>3.394846</td>\n",
              "    </tr>\n",
              "  </tbody>\n",
              "</table>\n",
              "</div>\n",
              "    <div class=\"colab-df-buttons\">\n",
              "\n",
              "  <div class=\"colab-df-container\">\n",
              "    <button class=\"colab-df-convert\" onclick=\"convertToInteractive('df-d5f26d9d-b005-4227-a07b-28ee9d064fb4')\"\n",
              "            title=\"Convert this dataframe to an interactive table.\"\n",
              "            style=\"display:none;\">\n",
              "\n",
              "  <svg xmlns=\"http://www.w3.org/2000/svg\" height=\"24px\" viewBox=\"0 -960 960 960\">\n",
              "    <path d=\"M120-120v-720h720v720H120Zm60-500h600v-160H180v160Zm220 220h160v-160H400v160Zm0 220h160v-160H400v160ZM180-400h160v-160H180v160Zm440 0h160v-160H620v160ZM180-180h160v-160H180v160Zm440 0h160v-160H620v160Z\"/>\n",
              "  </svg>\n",
              "    </button>\n",
              "\n",
              "  <style>\n",
              "    .colab-df-container {\n",
              "      display:flex;\n",
              "      gap: 12px;\n",
              "    }\n",
              "\n",
              "    .colab-df-convert {\n",
              "      background-color: #E8F0FE;\n",
              "      border: none;\n",
              "      border-radius: 50%;\n",
              "      cursor: pointer;\n",
              "      display: none;\n",
              "      fill: #1967D2;\n",
              "      height: 32px;\n",
              "      padding: 0 0 0 0;\n",
              "      width: 32px;\n",
              "    }\n",
              "\n",
              "    .colab-df-convert:hover {\n",
              "      background-color: #E2EBFA;\n",
              "      box-shadow: 0px 1px 2px rgba(60, 64, 67, 0.3), 0px 1px 3px 1px rgba(60, 64, 67, 0.15);\n",
              "      fill: #174EA6;\n",
              "    }\n",
              "\n",
              "    .colab-df-buttons div {\n",
              "      margin-bottom: 4px;\n",
              "    }\n",
              "\n",
              "    [theme=dark] .colab-df-convert {\n",
              "      background-color: #3B4455;\n",
              "      fill: #D2E3FC;\n",
              "    }\n",
              "\n",
              "    [theme=dark] .colab-df-convert:hover {\n",
              "      background-color: #434B5C;\n",
              "      box-shadow: 0px 1px 3px 1px rgba(0, 0, 0, 0.15);\n",
              "      filter: drop-shadow(0px 1px 2px rgba(0, 0, 0, 0.3));\n",
              "      fill: #FFFFFF;\n",
              "    }\n",
              "  </style>\n",
              "\n",
              "    <script>\n",
              "      const buttonEl =\n",
              "        document.querySelector('#df-d5f26d9d-b005-4227-a07b-28ee9d064fb4 button.colab-df-convert');\n",
              "      buttonEl.style.display =\n",
              "        google.colab.kernel.accessAllowed ? 'block' : 'none';\n",
              "\n",
              "      async function convertToInteractive(key) {\n",
              "        const element = document.querySelector('#df-d5f26d9d-b005-4227-a07b-28ee9d064fb4');\n",
              "        const dataTable =\n",
              "          await google.colab.kernel.invokeFunction('convertToInteractive',\n",
              "                                                    [key], {});\n",
              "        if (!dataTable) return;\n",
              "\n",
              "        const docLinkHtml = 'Like what you see? Visit the ' +\n",
              "          '<a target=\"_blank\" href=https://colab.research.google.com/notebooks/data_table.ipynb>data table notebook</a>'\n",
              "          + ' to learn more about interactive tables.';\n",
              "        element.innerHTML = '';\n",
              "        dataTable['output_type'] = 'display_data';\n",
              "        await google.colab.output.renderOutput(dataTable, element);\n",
              "        const docLink = document.createElement('div');\n",
              "        docLink.innerHTML = docLinkHtml;\n",
              "        element.appendChild(docLink);\n",
              "      }\n",
              "    </script>\n",
              "  </div>\n",
              "\n",
              "\n",
              "<div id=\"df-be27171b-8f80-42af-b512-bf99e741d1c6\">\n",
              "  <button class=\"colab-df-quickchart\" onclick=\"quickchart('df-be27171b-8f80-42af-b512-bf99e741d1c6')\"\n",
              "            title=\"Suggest charts.\"\n",
              "            style=\"display:none;\">\n",
              "\n",
              "<svg xmlns=\"http://www.w3.org/2000/svg\" height=\"24px\"viewBox=\"0 0 24 24\"\n",
              "     width=\"24px\">\n",
              "    <g>\n",
              "        <path d=\"M19 3H5c-1.1 0-2 .9-2 2v14c0 1.1.9 2 2 2h14c1.1 0 2-.9 2-2V5c0-1.1-.9-2-2-2zM9 17H7v-7h2v7zm4 0h-2V7h2v10zm4 0h-2v-4h2v4z\"/>\n",
              "    </g>\n",
              "</svg>\n",
              "  </button>\n",
              "\n",
              "<style>\n",
              "  .colab-df-quickchart {\n",
              "    background-color: #E8F0FE;\n",
              "    border: none;\n",
              "    border-radius: 50%;\n",
              "    cursor: pointer;\n",
              "    display: none;\n",
              "    fill: #1967D2;\n",
              "    height: 32px;\n",
              "    padding: 0 0 0 0;\n",
              "    width: 32px;\n",
              "  }\n",
              "\n",
              "  .colab-df-quickchart:hover {\n",
              "    background-color: #E2EBFA;\n",
              "    box-shadow: 0px 1px 2px rgba(60, 64, 67, 0.3), 0px 1px 3px 1px rgba(60, 64, 67, 0.15);\n",
              "    fill: #174EA6;\n",
              "  }\n",
              "\n",
              "  [theme=dark] .colab-df-quickchart {\n",
              "    background-color: #3B4455;\n",
              "    fill: #D2E3FC;\n",
              "  }\n",
              "\n",
              "  [theme=dark] .colab-df-quickchart:hover {\n",
              "    background-color: #434B5C;\n",
              "    box-shadow: 0px 1px 3px 1px rgba(0, 0, 0, 0.15);\n",
              "    filter: drop-shadow(0px 1px 2px rgba(0, 0, 0, 0.3));\n",
              "    fill: #FFFFFF;\n",
              "  }\n",
              "</style>\n",
              "\n",
              "  <script>\n",
              "    async function quickchart(key) {\n",
              "      const charts = await google.colab.kernel.invokeFunction(\n",
              "          'suggestCharts', [key], {});\n",
              "    }\n",
              "    (() => {\n",
              "      let quickchartButtonEl =\n",
              "        document.querySelector('#df-be27171b-8f80-42af-b512-bf99e741d1c6 button');\n",
              "      quickchartButtonEl.style.display =\n",
              "        google.colab.kernel.accessAllowed ? 'block' : 'none';\n",
              "    })();\n",
              "  </script>\n",
              "</div>\n",
              "    </div>\n",
              "  </div>\n"
            ]
          },
          "metadata": {},
          "execution_count": 13
        }
      ]
    }
  ]
}